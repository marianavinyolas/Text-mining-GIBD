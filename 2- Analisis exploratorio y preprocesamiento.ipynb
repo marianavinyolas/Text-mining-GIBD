{
 "cells": [
  {
   "cell_type": "markdown",
   "metadata": {},
   "source": [
    "# 2- Analisis exploratorio y preprocesamiento"
   ]
  },
  {
   "cell_type": "code",
   "execution_count": 1,
   "metadata": {},
   "outputs": [],
   "source": [
    "import numpy as np\n",
    "import pandas as pd \n",
    "import matplotlib.pyplot as plt"
   ]
  },
  {
   "cell_type": "code",
   "execution_count": 9,
   "metadata": {
    "colab": {
     "base_uri": "https://localhost:8080/",
     "height": 740
    },
    "colab_type": "code",
    "id": "JRE0G9fCv7SV",
    "outputId": "5452ac20-7484-4b7f-b9db-2d1daf0304ba"
   },
   "outputs": [
    {
     "data": {
      "text/html": [
       "<div>\n",
       "<style scoped>\n",
       "    .dataframe tbody tr th:only-of-type {\n",
       "        vertical-align: middle;\n",
       "    }\n",
       "\n",
       "    .dataframe tbody tr th {\n",
       "        vertical-align: top;\n",
       "    }\n",
       "\n",
       "    .dataframe thead th {\n",
       "        text-align: right;\n",
       "    }\n",
       "</style>\n",
       "<table border=\"1\" class=\"dataframe\">\n",
       "  <thead>\n",
       "    <tr style=\"text-align: right;\">\n",
       "      <th></th>\n",
       "      <th>news_paper</th>\n",
       "      <th>category</th>\n",
       "      <th>link</th>\n",
       "      <th>date</th>\n",
       "      <th>title</th>\n",
       "      <th>abstract</th>\n",
       "      <th>author</th>\n",
       "      <th>key_words</th>\n",
       "      <th>body</th>\n",
       "    </tr>\n",
       "  </thead>\n",
       "  <tbody>\n",
       "    <tr>\n",
       "      <th>0</th>\n",
       "      <td>clarin</td>\n",
       "      <td>deportes</td>\n",
       "      <td>https://www.clarin.com//deportes/velez-sarsfie...</td>\n",
       "      <td>2020-03-04</td>\n",
       "      <td>Vélez Sarsfield vs Godoy Cruz, en vivo por la ...</td>\n",
       "      <td>El Fortín busca afianzarse en el tercer lugar ...</td>\n",
       "      <td>[]</td>\n",
       "      <td>Superliga ArgentinaClub Atlético Vélez Sarsfie...</td>\n",
       "      <td>Vélez Sarsfield recibe a Godoy Cruz de Mendoza...</td>\n",
       "    </tr>\n",
       "    <tr>\n",
       "      <th>1</th>\n",
       "      <td>clarin</td>\n",
       "      <td>deportes</td>\n",
       "      <td>https://www.clarin.com//deportes/zielinski-cam...</td>\n",
       "      <td>2020-03-04</td>\n",
       "      <td>Cómo se prepara Atlético Tucumán para frenar a...</td>\n",
       "      <td>El “Ruso” Zielinski analiza variantes en su on...</td>\n",
       "      <td>[]</td>\n",
       "      <td>Atlético TucumánRiver PlateSuperliga Argentina</td>\n",
       "      <td>Atlético Tucumán no quiere ser espectador de l...</td>\n",
       "    </tr>\n",
       "    <tr>\n",
       "      <th>2</th>\n",
       "      <td>clarin</td>\n",
       "      <td>deportes</td>\n",
       "      <td>https://www.clarin.com//deportes/liga-de-quito...</td>\n",
       "      <td>2020-03-04</td>\n",
       "      <td>Liga de Quito vs River, en vivo por Copa Liber...</td>\n",
       "      <td>El equipo argentino afronta el debut en la Cop...</td>\n",
       "      <td>[]</td>\n",
       "      <td>Copa LibertadoresRiver PlateMarcelo GallardoLi...</td>\n",
       "      <td>River Plate visita a Liga de Quito, en uno de ...</td>\n",
       "    </tr>\n",
       "    <tr>\n",
       "      <th>3</th>\n",
       "      <td>clarin</td>\n",
       "      <td>deportes</td>\n",
       "      <td>https://www.clarin.com//deportes/ponzio-quito-...</td>\n",
       "      <td>2020-03-04</td>\n",
       "      <td>Ponzio, en Quito: “Hay que aprovechar nuestras...</td>\n",
       "      <td>El capitán, que será titular ante Liga, remarc...</td>\n",
       "      <td>Maximiliano Uria</td>\n",
       "      <td>River PlateLeonardo PonzioCopa Libertadores</td>\n",
       "      <td>Celebrará de una manera especial Leonardo Ponz...</td>\n",
       "    </tr>\n",
       "    <tr>\n",
       "      <th>4</th>\n",
       "      <td>clarin</td>\n",
       "      <td>deportes</td>\n",
       "      <td>https://www.clarin.com//deportes/neymar-barcel...</td>\n",
       "      <td>2020-03-04</td>\n",
       "      <td>La carta que jugará Neymar para irse del PSG y...</td>\n",
       "      <td>Como el brasileño no tiene fijada una cifra de...</td>\n",
       "      <td>[]</td>\n",
       "      <td>NeymarFC BarcelonaParis Saint Germain</td>\n",
       "      <td>La relación entre Neymar y el PSG&lt;U+200B&gt; camb...</td>\n",
       "    </tr>\n",
       "    <tr>\n",
       "      <th>...</th>\n",
       "      <td>...</td>\n",
       "      <td>...</td>\n",
       "      <td>...</td>\n",
       "      <td>...</td>\n",
       "      <td>...</td>\n",
       "      <td>...</td>\n",
       "      <td>...</td>\n",
       "      <td>...</td>\n",
       "      <td>...</td>\n",
       "    </tr>\n",
       "    <tr>\n",
       "      <th>21902</th>\n",
       "      <td>lanacion</td>\n",
       "      <td>politica</td>\n",
       "      <td>http://www.lanacion.com.ar//politica/las-princ...</td>\n",
       "      <td>2020-03-31</td>\n",
       "      <td>Coronavirus en la Argentina: las principales f...</td>\n",
       "      <td>NaN</td>\n",
       "      <td>NaN</td>\n",
       "      <td>NaN</td>\n",
       "      <td>El presidente \\r\\n\\r\\nAlberto Fernández\\r\\n\\r\\...</td>\n",
       "    </tr>\n",
       "    <tr>\n",
       "      <th>21903</th>\n",
       "      <td>lanacion</td>\n",
       "      <td>politica</td>\n",
       "      <td>http://www.lanacion.com.ar//politica/coronavir...</td>\n",
       "      <td>2020-03-31</td>\n",
       "      <td>Coronavirus: la Justicia rechazó la mayoría de...</td>\n",
       "      <td>NaN</td>\n",
       "      <td>Candela Ini</td>\n",
       "      <td>NaN</td>\n",
       "      <td>La \\r\\n\\r\\njurisprudencia \\r\\n\\r\\nsobre el \\r\\...</td>\n",
       "    </tr>\n",
       "    <tr>\n",
       "      <th>21904</th>\n",
       "      <td>lanacion</td>\n",
       "      <td>politica</td>\n",
       "      <td>http://www.lanacion.com.ar//politica/conurbano...</td>\n",
       "      <td>2020-03-31</td>\n",
       "      <td>Coronavirus: Una travesía por los bloqueos dur...</td>\n",
       "      <td>NaN</td>\n",
       "      <td>Javier Fuego Simondet</td>\n",
       "      <td>NaN</td>\n",
       "      <td>Con una enorme bolsa blanca y en medio de un n...</td>\n",
       "    </tr>\n",
       "    <tr>\n",
       "      <th>21905</th>\n",
       "      <td>lanacion</td>\n",
       "      <td>politica</td>\n",
       "      <td>http://www.lanacion.com.ar//politica/coronavir...</td>\n",
       "      <td>2020-03-31</td>\n",
       "      <td>Coronavirus: ¿Cómo y cuándo salir de la cuaren...</td>\n",
       "      <td>NaN</td>\n",
       "      <td>['Eduardo Levy Yeyati', 'Andrés Malamud']</td>\n",
       "      <td>NaN</td>\n",
       "      <td>La pandemia es una crisis global, pero las res...</td>\n",
       "    </tr>\n",
       "    <tr>\n",
       "      <th>21906</th>\n",
       "      <td>lanacion</td>\n",
       "      <td>politica</td>\n",
       "      <td>http://www.lanacion.com.ar//politica/coronavir...</td>\n",
       "      <td>2020-03-31</td>\n",
       "      <td>Coronavirus. \"La patria es el otro, estemos do...</td>\n",
       "      <td>NaN</td>\n",
       "      <td>NaN</td>\n",
       "      <td>NaN</td>\n",
       "      <td>Una médica pediatra que ejerce en \\r\\n\\r\\nLa M...</td>\n",
       "    </tr>\n",
       "  </tbody>\n",
       "</table>\n",
       "<p>21907 rows × 9 columns</p>\n",
       "</div>"
      ],
      "text/plain": [
       "      news_paper  category                                               link  \\\n",
       "0         clarin  deportes  https://www.clarin.com//deportes/velez-sarsfie...   \n",
       "1         clarin  deportes  https://www.clarin.com//deportes/zielinski-cam...   \n",
       "2         clarin  deportes  https://www.clarin.com//deportes/liga-de-quito...   \n",
       "3         clarin  deportes  https://www.clarin.com//deportes/ponzio-quito-...   \n",
       "4         clarin  deportes  https://www.clarin.com//deportes/neymar-barcel...   \n",
       "...          ...       ...                                                ...   \n",
       "21902   lanacion  politica  http://www.lanacion.com.ar//politica/las-princ...   \n",
       "21903   lanacion  politica  http://www.lanacion.com.ar//politica/coronavir...   \n",
       "21904   lanacion  politica  http://www.lanacion.com.ar//politica/conurbano...   \n",
       "21905   lanacion  politica  http://www.lanacion.com.ar//politica/coronavir...   \n",
       "21906   lanacion  politica  http://www.lanacion.com.ar//politica/coronavir...   \n",
       "\n",
       "             date                                              title  \\\n",
       "0      2020-03-04  Vélez Sarsfield vs Godoy Cruz, en vivo por la ...   \n",
       "1      2020-03-04  Cómo se prepara Atlético Tucumán para frenar a...   \n",
       "2      2020-03-04  Liga de Quito vs River, en vivo por Copa Liber...   \n",
       "3      2020-03-04  Ponzio, en Quito: “Hay que aprovechar nuestras...   \n",
       "4      2020-03-04  La carta que jugará Neymar para irse del PSG y...   \n",
       "...           ...                                                ...   \n",
       "21902  2020-03-31  Coronavirus en la Argentina: las principales f...   \n",
       "21903  2020-03-31  Coronavirus: la Justicia rechazó la mayoría de...   \n",
       "21904  2020-03-31  Coronavirus: Una travesía por los bloqueos dur...   \n",
       "21905  2020-03-31  Coronavirus: ¿Cómo y cuándo salir de la cuaren...   \n",
       "21906  2020-03-31  Coronavirus. \"La patria es el otro, estemos do...   \n",
       "\n",
       "                                                abstract  \\\n",
       "0      El Fortín busca afianzarse en el tercer lugar ...   \n",
       "1      El “Ruso” Zielinski analiza variantes en su on...   \n",
       "2      El equipo argentino afronta el debut en la Cop...   \n",
       "3      El capitán, que será titular ante Liga, remarc...   \n",
       "4      Como el brasileño no tiene fijada una cifra de...   \n",
       "...                                                  ...   \n",
       "21902                                                NaN   \n",
       "21903                                                NaN   \n",
       "21904                                                NaN   \n",
       "21905                                                NaN   \n",
       "21906                                                NaN   \n",
       "\n",
       "                                          author  \\\n",
       "0                                             []   \n",
       "1                                             []   \n",
       "2                                             []   \n",
       "3                               Maximiliano Uria   \n",
       "4                                             []   \n",
       "...                                          ...   \n",
       "21902                                        NaN   \n",
       "21903                                Candela Ini   \n",
       "21904                      Javier Fuego Simondet   \n",
       "21905  ['Eduardo Levy Yeyati', 'Andrés Malamud']   \n",
       "21906                                        NaN   \n",
       "\n",
       "                                               key_words  \\\n",
       "0      Superliga ArgentinaClub Atlético Vélez Sarsfie...   \n",
       "1         Atlético TucumánRiver PlateSuperliga Argentina   \n",
       "2      Copa LibertadoresRiver PlateMarcelo GallardoLi...   \n",
       "3            River PlateLeonardo PonzioCopa Libertadores   \n",
       "4                  NeymarFC BarcelonaParis Saint Germain   \n",
       "...                                                  ...   \n",
       "21902                                                NaN   \n",
       "21903                                                NaN   \n",
       "21904                                                NaN   \n",
       "21905                                                NaN   \n",
       "21906                                                NaN   \n",
       "\n",
       "                                                    body  \n",
       "0      Vélez Sarsfield recibe a Godoy Cruz de Mendoza...  \n",
       "1      Atlético Tucumán no quiere ser espectador de l...  \n",
       "2      River Plate visita a Liga de Quito, en uno de ...  \n",
       "3      Celebrará de una manera especial Leonardo Ponz...  \n",
       "4      La relación entre Neymar y el PSG<U+200B> camb...  \n",
       "...                                                  ...  \n",
       "21902  El presidente \\r\\n\\r\\nAlberto Fernández\\r\\n\\r\\...  \n",
       "21903  La \\r\\n\\r\\njurisprudencia \\r\\n\\r\\nsobre el \\r\\...  \n",
       "21904  Con una enorme bolsa blanca y en medio de un n...  \n",
       "21905  La pandemia es una crisis global, pero las res...  \n",
       "21906  Una médica pediatra que ejerce en \\r\\n\\r\\nLa M...  \n",
       "\n",
       "[21907 rows x 9 columns]"
      ]
     },
     "execution_count": 9,
     "metadata": {},
     "output_type": "execute_result"
    }
   ],
   "source": [
    "\n",
    "news = pd.read_csv('news_marzo_todas_20200331-203750.csv')\n",
    "news"
   ]
  },
  {
   "cell_type": "markdown",
   "metadata": {
    "colab_type": "text",
    "id": "w-P08JjWg7T_"
   },
   "source": [
    "---\n",
    "\n",
    "Estadísticas descriptivas del dataset\n",
    "\n",
    "---"
   ]
  },
  {
   "cell_type": "code",
   "execution_count": 10,
   "metadata": {
    "colab": {
     "base_uri": "https://localhost:8080/",
     "height": 167
    },
    "colab_type": "code",
    "id": "WmN5EOM7tAdD",
    "outputId": "e7775ec5-51c1-4428-caf4-dae3f6f75ee9"
   },
   "outputs": [
    {
     "data": {
      "text/html": [
       "<div>\n",
       "<style scoped>\n",
       "    .dataframe tbody tr th:only-of-type {\n",
       "        vertical-align: middle;\n",
       "    }\n",
       "\n",
       "    .dataframe tbody tr th {\n",
       "        vertical-align: top;\n",
       "    }\n",
       "\n",
       "    .dataframe thead th {\n",
       "        text-align: right;\n",
       "    }\n",
       "</style>\n",
       "<table border=\"1\" class=\"dataframe\">\n",
       "  <thead>\n",
       "    <tr style=\"text-align: right;\">\n",
       "      <th></th>\n",
       "      <th>news_paper</th>\n",
       "      <th>category</th>\n",
       "      <th>link</th>\n",
       "      <th>date</th>\n",
       "      <th>title</th>\n",
       "      <th>abstract</th>\n",
       "      <th>author</th>\n",
       "      <th>key_words</th>\n",
       "      <th>body</th>\n",
       "    </tr>\n",
       "  </thead>\n",
       "  <tbody>\n",
       "    <tr>\n",
       "      <th>count</th>\n",
       "      <td>21907</td>\n",
       "      <td>21907</td>\n",
       "      <td>21907</td>\n",
       "      <td>21907</td>\n",
       "      <td>21907</td>\n",
       "      <td>13412</td>\n",
       "      <td>17593</td>\n",
       "      <td>4583</td>\n",
       "      <td>21856</td>\n",
       "    </tr>\n",
       "    <tr>\n",
       "      <th>unique</th>\n",
       "      <td>3</td>\n",
       "      <td>5</td>\n",
       "      <td>7351</td>\n",
       "      <td>28</td>\n",
       "      <td>7636</td>\n",
       "      <td>4999</td>\n",
       "      <td>519</td>\n",
       "      <td>1739</td>\n",
       "      <td>8187</td>\n",
       "    </tr>\n",
       "    <tr>\n",
       "      <th>top</th>\n",
       "      <td>lanacion</td>\n",
       "      <td>deportes</td>\n",
       "      <td>http://www.lanacion.com.ar//sociedad/coronavir...</td>\n",
       "      <td>2020-03-11</td>\n",
       "      <td>Agenda Vida Digital</td>\n",
       "      <td>Se trata de los nuevos productos que dio a con...</td>\n",
       "      <td>[]</td>\n",
       "      <td>Coronavirus</td>\n",
       "      <td>Cada año, las compañías de teléfonos móviles e...</td>\n",
       "    </tr>\n",
       "    <tr>\n",
       "      <th>freq</th>\n",
       "      <td>8686</td>\n",
       "      <td>5259</td>\n",
       "      <td>56</td>\n",
       "      <td>1167</td>\n",
       "      <td>53</td>\n",
       "      <td>34</td>\n",
       "      <td>9399</td>\n",
       "      <td>250</td>\n",
       "      <td>34</td>\n",
       "    </tr>\n",
       "  </tbody>\n",
       "</table>\n",
       "</div>"
      ],
      "text/plain": [
       "       news_paper  category  \\\n",
       "count       21907     21907   \n",
       "unique          3         5   \n",
       "top      lanacion  deportes   \n",
       "freq         8686      5259   \n",
       "\n",
       "                                                     link        date  \\\n",
       "count                                               21907       21907   \n",
       "unique                                               7351          28   \n",
       "top     http://www.lanacion.com.ar//sociedad/coronavir...  2020-03-11   \n",
       "freq                                                   56        1167   \n",
       "\n",
       "                      title  \\\n",
       "count                 21907   \n",
       "unique                 7636   \n",
       "top     Agenda Vida Digital   \n",
       "freq                     53   \n",
       "\n",
       "                                                 abstract author    key_words  \\\n",
       "count                                               13412  17593         4583   \n",
       "unique                                               4999    519         1739   \n",
       "top     Se trata de los nuevos productos que dio a con...     []  Coronavirus   \n",
       "freq                                                   34   9399          250   \n",
       "\n",
       "                                                     body  \n",
       "count                                               21856  \n",
       "unique                                               8187  \n",
       "top     Cada año, las compañías de teléfonos móviles e...  \n",
       "freq                                                   34  "
      ]
     },
     "execution_count": 10,
     "metadata": {},
     "output_type": "execute_result"
    }
   ],
   "source": [
    "news.describe()"
   ]
  },
  {
   "cell_type": "markdown",
   "metadata": {
    "colab_type": "text",
    "id": "xARFcFGbTiuy"
   },
   "source": [
    "---\n",
    "\n",
    "**Selección, limpieza y transformación**\n",
    "\n",
    "\n",
    "---"
   ]
  },
  {
   "cell_type": "markdown",
   "metadata": {
    "colab_type": "text",
    "id": "SoAFZdkNTsQr"
   },
   "source": [
    "\n",
    "\n",
    "---\n",
    "\n",
    "El script de descarga de noticias se ejecuta 3 veces durante un día, por lo que algunas noticias que no se modifican pueden aparecer 3 veces en un mismo día.\n",
    "En algunas ocasiones el diario actualiza el texto de alguna noticia durante el día, por lo que se puede observar que se mantiene el título pero se modifica el body de alguna noticia.\n",
    "\n",
    "A continuación se presenta una tabla en la que se puede visualizar que la longitud del campo body de la noticia con ID = 7574, 7625, 7639 ha cambiado durante el día.\n",
    "\n",
    "Para este trabajo se decidió no eliminar noticias duplicadas.\n",
    "\n",
    "---\n"
   ]
  },
  {
   "cell_type": "code",
   "execution_count": 11,
   "metadata": {
    "colab": {
     "base_uri": "https://localhost:8080/",
     "height": 167
    },
    "colab_type": "code",
    "id": "0tzRTeAKpQc3",
    "outputId": "bd89e6fb-d871-40c8-d2d2-801bf7cc0c0e"
   },
   "outputs": [
    {
     "data": {
      "text/html": [
       "<div>\n",
       "<style scoped>\n",
       "    .dataframe tbody tr th:only-of-type {\n",
       "        vertical-align: middle;\n",
       "    }\n",
       "\n",
       "    .dataframe tbody tr th {\n",
       "        vertical-align: top;\n",
       "    }\n",
       "\n",
       "    .dataframe thead th {\n",
       "        text-align: right;\n",
       "    }\n",
       "</style>\n",
       "<table border=\"1\" class=\"dataframe\">\n",
       "  <thead>\n",
       "    <tr style=\"text-align: right;\">\n",
       "      <th></th>\n",
       "      <th>title</th>\n",
       "      <th>body</th>\n",
       "    </tr>\n",
       "  </thead>\n",
       "  <tbody>\n",
       "    <tr>\n",
       "      <th>count</th>\n",
       "      <td>21907</td>\n",
       "      <td>21856</td>\n",
       "    </tr>\n",
       "    <tr>\n",
       "      <th>unique</th>\n",
       "      <td>7636</td>\n",
       "      <td>8187</td>\n",
       "    </tr>\n",
       "    <tr>\n",
       "      <th>top</th>\n",
       "      <td>Agenda Vida Digital</td>\n",
       "      <td>Cada año, las compañías de teléfonos móviles e...</td>\n",
       "    </tr>\n",
       "    <tr>\n",
       "      <th>freq</th>\n",
       "      <td>53</td>\n",
       "      <td>34</td>\n",
       "    </tr>\n",
       "  </tbody>\n",
       "</table>\n",
       "</div>"
      ],
      "text/plain": [
       "                      title                                               body\n",
       "count                 21907                                              21856\n",
       "unique                 7636                                               8187\n",
       "top     Agenda Vida Digital  Cada año, las compañías de teléfonos móviles e...\n",
       "freq                     53                                                 34"
      ]
     },
     "execution_count": 11,
     "metadata": {},
     "output_type": "execute_result"
    }
   ],
   "source": [
    "news[['title','body']].describe()"
   ]
  },
  {
   "cell_type": "markdown",
   "metadata": {
    "colab_type": "text",
    "id": "pTnXwtA5zeFV"
   },
   "source": [
    "---\n",
    "\n",
    "... se eliminan los registros cuyos title o body son NA\n",
    "\n",
    "---"
   ]
  },
  {
   "cell_type": "code",
   "execution_count": 12,
   "metadata": {
    "colab": {
     "base_uri": "https://localhost:8080/",
     "height": 184
    },
    "colab_type": "code",
    "id": "G7eSTjXwqapH",
    "outputId": "b48919d0-be3f-4dbc-d21e-f703450ab4c8"
   },
   "outputs": [
    {
     "data": {
      "text/html": [
       "<div>\n",
       "<style scoped>\n",
       "    .dataframe tbody tr th:only-of-type {\n",
       "        vertical-align: middle;\n",
       "    }\n",
       "\n",
       "    .dataframe tbody tr th {\n",
       "        vertical-align: top;\n",
       "    }\n",
       "\n",
       "    .dataframe thead th {\n",
       "        text-align: right;\n",
       "    }\n",
       "</style>\n",
       "<table border=\"1\" class=\"dataframe\">\n",
       "  <thead>\n",
       "    <tr style=\"text-align: right;\">\n",
       "      <th></th>\n",
       "      <th>news_paper</th>\n",
       "      <th>category</th>\n",
       "      <th>link</th>\n",
       "      <th>date</th>\n",
       "      <th>title</th>\n",
       "      <th>abstract</th>\n",
       "      <th>author</th>\n",
       "      <th>key_words</th>\n",
       "      <th>body</th>\n",
       "    </tr>\n",
       "  </thead>\n",
       "  <tbody>\n",
       "    <tr>\n",
       "      <th>count</th>\n",
       "      <td>21856</td>\n",
       "      <td>21856</td>\n",
       "      <td>21856</td>\n",
       "      <td>21856</td>\n",
       "      <td>21856</td>\n",
       "      <td>13387</td>\n",
       "      <td>17557</td>\n",
       "      <td>4577</td>\n",
       "      <td>21856</td>\n",
       "    </tr>\n",
       "    <tr>\n",
       "      <th>unique</th>\n",
       "      <td>3</td>\n",
       "      <td>5</td>\n",
       "      <td>7334</td>\n",
       "      <td>28</td>\n",
       "      <td>7618</td>\n",
       "      <td>4991</td>\n",
       "      <td>518</td>\n",
       "      <td>1738</td>\n",
       "      <td>8187</td>\n",
       "    </tr>\n",
       "    <tr>\n",
       "      <th>top</th>\n",
       "      <td>lanacion</td>\n",
       "      <td>deportes</td>\n",
       "      <td>http://www.lanacion.com.ar//sociedad/coronavir...</td>\n",
       "      <td>2020-03-11</td>\n",
       "      <td>Agenda Vida Digital</td>\n",
       "      <td>Se trata de los nuevos productos que dio a con...</td>\n",
       "      <td>[]</td>\n",
       "      <td>Coronavirus</td>\n",
       "      <td>Cada año, las compañías de teléfonos móviles e...</td>\n",
       "    </tr>\n",
       "    <tr>\n",
       "      <th>freq</th>\n",
       "      <td>8641</td>\n",
       "      <td>5247</td>\n",
       "      <td>56</td>\n",
       "      <td>1167</td>\n",
       "      <td>53</td>\n",
       "      <td>34</td>\n",
       "      <td>9387</td>\n",
       "      <td>250</td>\n",
       "      <td>34</td>\n",
       "    </tr>\n",
       "  </tbody>\n",
       "</table>\n",
       "</div>"
      ],
      "text/plain": [
       "       news_paper  category  \\\n",
       "count       21856     21856   \n",
       "unique          3         5   \n",
       "top      lanacion  deportes   \n",
       "freq         8641      5247   \n",
       "\n",
       "                                                     link        date  \\\n",
       "count                                               21856       21856   \n",
       "unique                                               7334          28   \n",
       "top     http://www.lanacion.com.ar//sociedad/coronavir...  2020-03-11   \n",
       "freq                                                   56        1167   \n",
       "\n",
       "                      title  \\\n",
       "count                 21856   \n",
       "unique                 7618   \n",
       "top     Agenda Vida Digital   \n",
       "freq                     53   \n",
       "\n",
       "                                                 abstract author    key_words  \\\n",
       "count                                               13387  17557         4577   \n",
       "unique                                               4991    518         1738   \n",
       "top     Se trata de los nuevos productos que dio a con...     []  Coronavirus   \n",
       "freq                                                   34   9387          250   \n",
       "\n",
       "                                                     body  \n",
       "count                                               21856  \n",
       "unique                                               8187  \n",
       "top     Cada año, las compañías de teléfonos móviles e...  \n",
       "freq                                                   34  "
      ]
     },
     "execution_count": 12,
     "metadata": {},
     "output_type": "execute_result"
    }
   ],
   "source": [
    "news_clean = news.dropna(subset=['title','body'])\n",
    "news_clean.describe()"
   ]
  },
  {
   "cell_type": "markdown",
   "metadata": {
    "colab_type": "text",
    "id": "eW1Nb4M7gPt-"
   },
   "source": [
    "---\n",
    "\n",
    "Cantidades de noticias agrupadas por diarios (marzo 2020)\n",
    "\n",
    "---"
   ]
  },
  {
   "cell_type": "code",
   "execution_count": 13,
   "metadata": {
    "colab": {
     "base_uri": "https://localhost:8080/",
     "height": 137
    },
    "colab_type": "code",
    "id": "H-JXlLEbN8KJ",
    "outputId": "599cb143-134d-433e-b9c2-a2ca63e40470"
   },
   "outputs": [
    {
     "data": {
      "text/html": [
       "<div>\n",
       "<style scoped>\n",
       "    .dataframe tbody tr th:only-of-type {\n",
       "        vertical-align: middle;\n",
       "    }\n",
       "\n",
       "    .dataframe tbody tr th {\n",
       "        vertical-align: top;\n",
       "    }\n",
       "\n",
       "    .dataframe thead th {\n",
       "        text-align: right;\n",
       "    }\n",
       "</style>\n",
       "<table border=\"1\" class=\"dataframe\">\n",
       "  <thead>\n",
       "    <tr style=\"text-align: right;\">\n",
       "      <th></th>\n",
       "      <th>Diario</th>\n",
       "      <th>Cantidad</th>\n",
       "    </tr>\n",
       "  </thead>\n",
       "  <tbody>\n",
       "    <tr>\n",
       "      <th>0</th>\n",
       "      <td>clarin</td>\n",
       "      <td>4577</td>\n",
       "    </tr>\n",
       "    <tr>\n",
       "      <th>1</th>\n",
       "      <td>infobae</td>\n",
       "      <td>8638</td>\n",
       "    </tr>\n",
       "    <tr>\n",
       "      <th>2</th>\n",
       "      <td>lanacion</td>\n",
       "      <td>8641</td>\n",
       "    </tr>\n",
       "  </tbody>\n",
       "</table>\n",
       "</div>"
      ],
      "text/plain": [
       "     Diario  Cantidad\n",
       "0    clarin      4577\n",
       "1   infobae      8638\n",
       "2  lanacion      8641"
      ]
     },
     "execution_count": 13,
     "metadata": {},
     "output_type": "execute_result"
    }
   ],
   "source": [
    "import numpy as np\n",
    "\n",
    "# Convierte el atributo news.news_paper como category\n",
    "c = news_clean.news_paper\n",
    "diarios = c.astype('category').dtype\n",
    "diarios.categories\n",
    "\n",
    "# Agrupa las noticias por diario y categoría\n",
    "a = news_clean.groupby(['news_paper'])\n",
    "\n",
    "# Genera un array numpay solo con la cantidad de noticias\n",
    "b = np.array(a.aggregate(np.count_nonzero)['link'])\n",
    "\n",
    "# Genera un dataframe con la cantidad de noticias por diario \n",
    "resumen = pd.DataFrame({\"Diario\":diarios.categories, \n",
    "                       \"Cantidad\":b})\n",
    "resumen"
   ]
  },
  {
   "cell_type": "code",
   "execution_count": 14,
   "metadata": {
    "colab": {
     "base_uri": "https://localhost:8080/",
     "height": 329
    },
    "colab_type": "code",
    "id": "77sksnxpIFO5",
    "outputId": "098918d6-6b0e-49be-ef32-35680cfaae3b"
   },
   "outputs": [
    {
     "data": {
      "image/png": "[encoded data removed]",
      "text/plain": [
       "<Figure size 432x288 with 1 Axes>"
      ]
     },
     "metadata": {
      "needs_background": "light"
     },
     "output_type": "display_data"
    }
   ],
   "source": [
    "resumen.plot.bar(x='Diario',y='Cantidad', color='g');"
   ]
  },
  {
   "cell_type": "markdown",
   "metadata": {
    "colab_type": "text",
    "id": "_lMa0Fw0f5J5"
   },
   "source": [
    "\n",
    "---\n",
    "\n",
    "Cantidades de noticias agrupadas por secciones (marzo 2020)\n",
    "\n",
    "---\n"
   ]
  },
  {
   "cell_type": "code",
   "execution_count": 15,
   "metadata": {
    "colab": {
     "base_uri": "https://localhost:8080/",
     "height": 235
    },
    "colab_type": "code",
    "id": "znChs9F2VEgj",
    "outputId": "e10fda55-25d4-4121-a9d9-894b73fcce4c"
   },
   "outputs": [
    {
     "data": {
      "text/html": [
       "<div>\n",
       "<style scoped>\n",
       "    .dataframe tbody tr th:only-of-type {\n",
       "        vertical-align: middle;\n",
       "    }\n",
       "\n",
       "    .dataframe tbody tr th {\n",
       "        vertical-align: top;\n",
       "    }\n",
       "\n",
       "    .dataframe thead th {\n",
       "        text-align: right;\n",
       "    }\n",
       "</style>\n",
       "<table border=\"1\" class=\"dataframe\">\n",
       "  <thead>\n",
       "    <tr style=\"text-align: right;\">\n",
       "      <th></th>\n",
       "      <th>Sección</th>\n",
       "      <th>Cantidad</th>\n",
       "    </tr>\n",
       "  </thead>\n",
       "  <tbody>\n",
       "    <tr>\n",
       "      <th>0</th>\n",
       "      <td>deportes</td>\n",
       "      <td>5247</td>\n",
       "    </tr>\n",
       "    <tr>\n",
       "      <th>1</th>\n",
       "      <td>economia</td>\n",
       "      <td>2934</td>\n",
       "    </tr>\n",
       "    <tr>\n",
       "      <th>2</th>\n",
       "      <td>politica</td>\n",
       "      <td>4122</td>\n",
       "    </tr>\n",
       "    <tr>\n",
       "      <th>3</th>\n",
       "      <td>sociedad</td>\n",
       "      <td>4556</td>\n",
       "    </tr>\n",
       "    <tr>\n",
       "      <th>4</th>\n",
       "      <td>tecnologia</td>\n",
       "      <td>4997</td>\n",
       "    </tr>\n",
       "  </tbody>\n",
       "</table>\n",
       "</div>"
      ],
      "text/plain": [
       "      Sección  Cantidad\n",
       "0    deportes      5247\n",
       "1    economia      2934\n",
       "2    politica      4122\n",
       "3    sociedad      4556\n",
       "4  tecnologia      4997"
      ]
     },
     "execution_count": 15,
     "metadata": {},
     "output_type": "execute_result"
    }
   ],
   "source": [
    "\n",
    "# Convierte el atributo news.category como category\n",
    "d = news_clean.category\n",
    "secciones = d.astype('category').dtype\n",
    "secciones.categories\n",
    "\n",
    "# Agrupa las noticias por diario y categoría\n",
    "e = news_clean.groupby(['category'])\n",
    "\n",
    "# Genera un array numpay solo con la cantidad de noticias\n",
    "f = np.array(e.aggregate(np.count_nonzero)['link'])\n",
    "\n",
    "# Genera un dataframe con la cantidad de noticias por diario \n",
    "resumenSecciones = pd.DataFrame({\"Sección\":secciones.categories, \n",
    "                                 \"Cantidad\":f})\n",
    "resumenSecciones"
   ]
  },
  {
   "cell_type": "code",
   "execution_count": 16,
   "metadata": {
    "colab": {
     "base_uri": "https://localhost:8080/",
     "height": 352
    },
    "colab_type": "code",
    "id": "WnscpWnBV6PB",
    "outputId": "15a24b99-74e9-4f1b-80e1-28876de2815a"
   },
   "outputs": [
    {
     "data": {
      "image/png": "[encoded data removed]",
      "text/plain": [
       "<Figure size 432x288 with 1 Axes>"
      ]
     },
     "metadata": {
      "needs_background": "light"
     },
     "output_type": "display_data"
    }
   ],
   "source": [
    "resumenSecciones.plot.bar(x='Sección',y='Cantidad', color='g');"
   ]
  },
  {
   "cell_type": "code",
   "execution_count": 17,
   "metadata": {},
   "outputs": [],
   "source": [
    "import matplotlib.pyplot as plt"
   ]
  },
  {
   "cell_type": "code",
   "execution_count": 20,
   "metadata": {
    "colab": {
     "base_uri": "https://localhost:8080/",
     "height": 778
    },
    "colab_type": "code",
    "id": "ZB7kiQhrhLFw",
    "outputId": "d7094ab8-8780-407a-d3cb-ad22ba636208"
   },
   "outputs": [
    {
     "data": {
      "image/png": "[encoded data removed]",
      "text/plain": [
       "<Figure size 720x360 with 1 Axes>"
      ]
     },
     "metadata": {
      "needs_background": "light"
     },
     "output_type": "display_data"
    }
   ],
   "source": [
    "\n",
    "z = news_clean.groupby(['news_paper', 'category'] )['category'].count().unstack('news_paper')\n",
    "z.plot.bar(stacked=True, figsize = (10, 5))\n",
    "plt.legend(loc='best', ncol=2)\n",
    "plt.ylim(0,8000);\n"
   ]
  },
  {
   "cell_type": "code",
   "execution_count": 21,
   "metadata": {},
   "outputs": [
    {
     "data": {
      "image/png": "[encoded data removed]",
      "text/plain": [
       "<Figure size 720x360 with 1 Axes>"
      ]
     },
     "metadata": {
      "needs_background": "light"
     },
     "output_type": "display_data"
    }
   ],
   "source": [
    "z.plot.bar(figsize = (10, 5))\n",
    "plt.legend(loc='best', ncol=2);"
   ]
  },
  {
   "cell_type": "code",
   "execution_count": 27,
   "metadata": {
    "colab": {
     "base_uri": "https://localhost:8080/",
     "height": 381
    },
    "colab_type": "code",
    "id": "Ag7GLXbRs6Yk",
    "outputId": "b79e5d95-2127-43b9-d140-a5268ebd5670"
   },
   "outputs": [
    {
     "data": {
      "image/png": "[encoded data removed]",
      "text/plain": [
       "<Figure size 1872x1440 with 3 Axes>"
      ]
     },
     "metadata": {},
     "output_type": "display_data"
    }
   ],
   "source": [
    "z = news_clean.groupby(['news_paper', 'category'] )['category'].count().unstack('news_paper')\n",
    "z.plot.pie( subplots=True,figsize=(26, 20));\n",
    "# hay que sacar la leyenda de cada seccion y poner el % dentro del chart\n"
   ]
  },
  {
   "cell_type": "markdown",
   "metadata": {
    "colab_type": "text",
    "id": "gVvOUnEsmVCg"
   },
   "source": [
    "---\n",
    "\n",
    "**Construcción de nuevos festures**\n",
    "\n",
    "Se genera el feature *titleandbody* a partir de la concatenación de los features del dataset original *title* y *body*, ya que las cadenas que aparecen en dichos features son las que interesan en este trabajo.\n",
    "\n",
    "---"
   ]
  },
  {
   "cell_type": "code",
   "execution_count": 28,
   "metadata": {
    "colab": {
     "base_uri": "https://localhost:8080/",
     "height": 123
    },
    "colab_type": "code",
    "id": "AVFLgAWuBGQB",
    "outputId": "b63a527d-09bd-4ba7-9e32-19068122bb03"
   },
   "outputs": [
    {
     "name": "stderr",
     "output_type": "stream",
     "text": [
      "C:\\anaconda\\Anaconda3\\lib\\site-packages\\ipykernel_launcher.py:2: SettingWithCopyWarning: \n",
      "A value is trying to be set on a copy of a slice from a DataFrame.\n",
      "Try using .loc[row_indexer,col_indexer] = value instead\n",
      "\n",
      "See the caveats in the documentation: http://pandas.pydata.org/pandas-docs/stable/user_guide/indexing.html#returning-a-view-versus-a-copy\n",
      "  \n"
     ]
    }
   ],
   "source": [
    "news = news_clean[['news_paper','category','date']]\n",
    "news['titleandbody'] = news_clean['title'].str.cat(news_clean['body'], sep =' // ')"
   ]
  },
  {
   "cell_type": "code",
   "execution_count": 29,
   "metadata": {},
   "outputs": [
    {
     "data": {
      "text/html": [
       "<div>\n",
       "<style scoped>\n",
       "    .dataframe tbody tr th:only-of-type {\n",
       "        vertical-align: middle;\n",
       "    }\n",
       "\n",
       "    .dataframe tbody tr th {\n",
       "        vertical-align: top;\n",
       "    }\n",
       "\n",
       "    .dataframe thead th {\n",
       "        text-align: right;\n",
       "    }\n",
       "</style>\n",
       "<table border=\"1\" class=\"dataframe\">\n",
       "  <thead>\n",
       "    <tr style=\"text-align: right;\">\n",
       "      <th></th>\n",
       "      <th>news_paper</th>\n",
       "      <th>category</th>\n",
       "      <th>date</th>\n",
       "      <th>titleandbody</th>\n",
       "    </tr>\n",
       "  </thead>\n",
       "  <tbody>\n",
       "    <tr>\n",
       "      <th>18880</th>\n",
       "      <td>lanacion</td>\n",
       "      <td>tecnologia</td>\n",
       "      <td>2020-03-22</td>\n",
       "      <td>Nokia presentó su nueva línea de teléfonos con...</td>\n",
       "    </tr>\n",
       "    <tr>\n",
       "      <th>16740</th>\n",
       "      <td>lanacion</td>\n",
       "      <td>sociedad</td>\n",
       "      <td>2020-03-19</td>\n",
       "      <td>Coronavirus: el médico argentino que trabaja e...</td>\n",
       "    </tr>\n",
       "    <tr>\n",
       "      <th>21209</th>\n",
       "      <td>lanacion</td>\n",
       "      <td>politica</td>\n",
       "      <td>2020-03-23</td>\n",
       "      <td>Coronavirus. \"La Argentina va a cerrar, en un ...</td>\n",
       "    </tr>\n",
       "    <tr>\n",
       "      <th>8583</th>\n",
       "      <td>infobae</td>\n",
       "      <td>economia</td>\n",
       "      <td>2020-03-30</td>\n",
       "      <td>ARBA suspendió los embargos a las pymes hasta ...</td>\n",
       "    </tr>\n",
       "    <tr>\n",
       "      <th>10047</th>\n",
       "      <td>infobae</td>\n",
       "      <td>sociedad</td>\n",
       "      <td>2020-03-28</td>\n",
       "      <td>En medio de la cuarentena total por el coronav...</td>\n",
       "    </tr>\n",
       "  </tbody>\n",
       "</table>\n",
       "</div>"
      ],
      "text/plain": [
       "      news_paper    category        date  \\\n",
       "18880   lanacion  tecnologia  2020-03-22   \n",
       "16740   lanacion    sociedad  2020-03-19   \n",
       "21209   lanacion    politica  2020-03-23   \n",
       "8583     infobae    economia  2020-03-30   \n",
       "10047    infobae    sociedad  2020-03-28   \n",
       "\n",
       "                                            titleandbody  \n",
       "18880  Nokia presentó su nueva línea de teléfonos con...  \n",
       "16740  Coronavirus: el médico argentino que trabaja e...  \n",
       "21209  Coronavirus. \"La Argentina va a cerrar, en un ...  \n",
       "8583   ARBA suspendió los embargos a las pymes hasta ...  \n",
       "10047  En medio de la cuarentena total por el coronav...  "
      ]
     },
     "execution_count": 29,
     "metadata": {},
     "output_type": "execute_result"
    }
   ],
   "source": [
    "news.sample(5)"
   ]
  },
  {
   "cell_type": "code",
   "execution_count": 30,
   "metadata": {
    "colab": {},
    "colab_type": "code",
    "id": "wSzxIh1gwJw5"
   },
   "outputs": [],
   "source": [
    "TMnews = news.to_csv (r'C:/Users/user/UTN - Breaking News/marzo_news.csv', index = None, header=True) "
   ]
  }
 ],
 "metadata": {
  "kernelspec": {
   "display_name": "Python 3",
   "language": "python",
   "name": "python3"
  },
  "language_info": {
   "codemirror_mode": {
    "name": "ipython",
    "version": 3
   },
   "file_extension": ".py",
   "mimetype": "text/x-python",
   "name": "python",
   "nbconvert_exporter": "python",
   "pygments_lexer": "ipython3",
   "version": "3.7.3"
  }
 },
 "nbformat": 4,
 "nbformat_minor": 2
}
